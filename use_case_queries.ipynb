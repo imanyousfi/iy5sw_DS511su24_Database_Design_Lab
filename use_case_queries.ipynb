{
 "metadata": {
  "kernelspec": {
   "display_name": "Streamlit Notebook",
   "name": "streamlit"
  }
 },
 "nbformat_minor": 5,
 "nbformat": 4,
 "cells": [
  {
   "cell_type": "markdown",
   "id": "6702b721-4c93-4f6f-95d9-d8f219e56809",
   "metadata": {
    "name": "cell5",
    "collapsed": false
   },
   "source": "# Database Design Lab Use Cases Part 2: "
  },
  {
   "cell_type": "markdown",
   "id": "07a81ade-825d-48fc-8530-6052d8bfd518",
   "metadata": {
    "name": "cell6",
    "collapsed": false
   },
   "source": "## 💨Setup💨"
  },
  {
   "cell_type": "code",
   "id": "3775908f-ca36-4846-8f38-5adca39217f2",
   "metadata": {
    "language": "python",
    "name": "cell1",
    "collapsed": false
   },
   "source": "# Import python packages\n\nimport pandas as pd\n\n# We can also use Snowpark for our analyses!\nfrom snowflake.snowpark.context import get_active_session\nsession = get_active_session()\n",
   "execution_count": null,
   "outputs": []
  },
  {
   "cell_type": "code",
   "id": "5ba8eeb0-8367-417e-bd66-0398476add1e",
   "metadata": {
    "language": "sql",
    "name": "cell7",
    "collapsed": false
   },
   "outputs": [],
   "source": "USE ROLE DS5111_DBT;\nUSE DATABASE DS5111_SU24;\n-- CREATE SCHEMA iy5sw;\n\nUSE SCHEMA iy5sw;\n",
   "execution_count": null
  },
  {
   "cell_type": "markdown",
   "id": "ae9b6382-9779-4021-975f-94d0900504a4",
   "metadata": {
    "name": "cell8",
    "collapsed": false
   },
   "source": "## 1) Which courses are currently included (active) in the program? Include the course mnemonic and course name for each."
  },
  {
   "cell_type": "code",
   "id": "d05951ed-1d6a-4944-8d2c-e7d507c60071",
   "metadata": {
    "language": "sql",
    "name": "cell4",
    "collapsed": false
   },
   "outputs": [],
   "source": "\nSELECT mnemonic, name\nFROM COURSES_ERD\nWHERE active = TRUE;",
   "execution_count": null
  },
  {
   "cell_type": "markdown",
   "id": "86e7c1c3-2b11-4f6f-a422-9fdb0881f900",
   "metadata": {
    "name": "cell2",
    "collapsed": false
   },
   "source": "## 2) Which courses were included in the program, but are no longer active? Include the course mnemonic and course name for each."
  },
  {
   "cell_type": "code",
   "id": "e7386154-979b-4c81-84ee-eae5ae400548",
   "metadata": {
    "language": "sql",
    "name": "cell17",
    "collapsed": false
   },
   "outputs": [],
   "source": "\nSELECT mnemonic, name\nFROM COURSES_ERD\nWHERE active = FALSE;",
   "execution_count": null
  },
  {
   "cell_type": "markdown",
   "id": "8cda8183-dc25-4a18-a382-f60ce3783272",
   "metadata": {
    "name": "cell3",
    "collapsed": false
   },
   "source": "## 3) Which instructors are not current employees?"
  },
  {
   "cell_type": "code",
   "id": "1fa2820f-fd61-4a8a-a456-ea5cbac0c21c",
   "metadata": {
    "language": "sql",
    "name": "cell18",
    "collapsed": false
   },
   "outputs": [],
   "source": "SELECT name\nFROM INSTRUCTOR_ERD\nWHERE active = FALSE",
   "execution_count": null
  },
  {
   "cell_type": "markdown",
   "id": "133b6790-eb2c-4c24-8d3b-c4c6414da301",
   "metadata": {
    "name": "cell9",
    "collapsed": false
   },
   "source": "## 4) For each course (active and inactive), how many learning outcomes are there?"
  },
  {
   "cell_type": "code",
   "id": "40b27374-d0a9-462a-86d1-9c050777c54a",
   "metadata": {
    "language": "sql",
    "name": "cell19",
    "collapsed": false
   },
   "outputs": [],
   "source": "SELECT mnemonic, COUNT(learning_outcome) AS number_of_outcomes\nFROM LEARNING_OUTCOMES_ERD\nGROUP BY mnemonic",
   "execution_count": null
  },
  {
   "cell_type": "markdown",
   "id": "10d74d3f-aff3-4f1b-acbd-62aa3d07c51a",
   "metadata": {
    "name": "cell10",
    "collapsed": false
   },
   "source": "## 5) Are there any courses with no learning outcomes? If so, provide their mnemonics and names."
  },
  {
   "cell_type": "code",
   "id": "e5e65fb9-0e0f-4e15-8d4b-6e99aef8ebc3",
   "metadata": {
    "language": "sql",
    "name": "cell20"
   },
   "outputs": [],
   "source": "SELECT COURSES_ERD.mnemonic, COURSES_ERD.name\nFROM COURSES_ERD\nLEFT JOIN LEARNING_OUTCOMES_ERD\nON COURSES_ERD.mnemonic = LEARNING_OUTCOMES_ERD.mnemonic\nWHERE LEARNING_OUTCOMES_ERD.learning_outcome IS NULL",
   "execution_count": null
  },
  {
   "cell_type": "markdown",
   "id": "54af633d-1ad6-46d9-9220-9400d22b87ea",
   "metadata": {
    "name": "cell11",
    "collapsed": false
   },
   "source": "## 6) Which courses include SQL as a learning outcome? Include the learning outcome descriptions, course mnemonics, and course names in your solution."
  },
  {
   "cell_type": "code",
   "id": "f4db0108-0f29-476e-9c48-8e351bd11489",
   "metadata": {
    "language": "sql",
    "name": "cell21",
    "collapsed": false
   },
   "outputs": [],
   "source": "SELECT LEARNING_OUTCOMES_ERD.mnemonic, LEARNING_OUTCOMES_ERD.learning_outcome, COURSES_ERD.name\nFROM COURSES_ERD\nLEFT JOIN LEARNING_OUTCOMES_ERD\nON COURSES_ERD.mnemonic = LEARNING_OUTCOMES_ERD.mnemonic\nWHERE LEARNING_OUTCOMES_ERD.learning_outcome LIKE '%SQL%'",
   "execution_count": null
  },
  {
   "cell_type": "markdown",
   "id": "5c0e98dd-3a6d-42e1-a64c-9e5ee6879646",
   "metadata": {
    "name": "cell12",
    "collapsed": false
   },
   "source": "## 7) Who taught course ds5100 in Summer 2021?"
  },
  {
   "cell_type": "code",
   "id": "8dd40bf9-6a0e-4b34-b6b1-b84cb65c165a",
   "metadata": {
    "language": "sql",
    "name": "cell22",
    "collapsed": false
   },
   "outputs": [],
   "source": "SELECT INSTRUCTOR_ERD.name, COURSE_ASSIGNMENT_ERD.term, COURSE_ASSIGNMENT_ERD.mnemonic\nFROM COURSE_ASSIGNMENT_ERD\nLEFT JOIN INSTRUCTOR_ERD\nON COURSE_ASSIGNMENT_ERD.instructor_id = INSTRUCTOR_ERD.instructor_id\nWHERE COURSE_ASSIGNMENT_ERD.mnemonic = 'ds5100' AND COURSE_ASSIGNMENT_ERD.term = 'SUMMER2021'",
   "execution_count": null
  },
  {
   "cell_type": "markdown",
   "id": "999b6adc-ae10-48bf-9c38-3cfe6517263c",
   "metadata": {
    "name": "cell13",
    "collapsed": false
   },
   "source": "## 8) Which instructors taught in Fall 2021? Order their names alphabetically, making sure the names are unique."
  },
  {
   "cell_type": "code",
   "id": "3d56ac8d-0f1d-4803-934a-e4bec2fedefe",
   "metadata": {
    "language": "sql",
    "name": "cell23",
    "collapsed": false
   },
   "outputs": [],
   "source": "SELECT DISTINCT INSTRUCTOR_ERD.name, COURSE_ASSIGNMENT_ERD.term\nFROM COURSE_ASSIGNMENT_ERD\nLEFT JOIN INSTRUCTOR_ERD\nON COURSE_ASSIGNMENT_ERD.instructor_id = INSTRUCTOR_ERD.instructor_id\nWHERE COURSE_ASSIGNMENT_ERD.term = 'FALL2021'\nORDER BY INSTRUCTOR_ERD.name",
   "execution_count": null
  },
  {
   "cell_type": "markdown",
   "id": "ea2ab0ff-9b21-4d68-9370-b1c35947042b",
   "metadata": {
    "name": "cell14",
    "collapsed": false
   },
   "source": "## 9) How many courses did each instructor teach in each term? Order your results by term and then instructor."
  },
  {
   "cell_type": "code",
   "id": "1d6b3528-719d-44e7-9571-0e4bfaf7e57d",
   "metadata": {
    "language": "sql",
    "name": "cell24",
    "collapsed": false
   },
   "outputs": [],
   "source": "SELECT COURSE_ASSIGNMENT_ERD.term, INSTRUCTOR_ERD.name, COUNT(COURSE_ASSIGNMENT_ERD.mnemonic) as number_of_courses_taught\nFROM COURSE_ASSIGNMENT_ERD\nLEFT JOIN INSTRUCTOR_ERD\nON COURSE_ASSIGNMENT_ERD.instructor_id = INSTRUCTOR_ERD.instructor_id\nGROUP BY COURSE_ASSIGNMENT_ERD.term, INSTRUCTOR_ERD.name\nORDER BY COURSE_ASSIGNMENT_ERD.term, INSTRUCTOR_ERD.name",
   "execution_count": null
  },
  {
   "cell_type": "markdown",
   "id": "09bc3b64-23dc-45fd-831e-74aea628c38c",
   "metadata": {
    "name": "cell15",
    "collapsed": false
   },
   "source": "## 10a) Which courses had more than one instructor for the same term? Provide the mnemonic and term for each. Note this occurs in courses with multiple sections."
  },
  {
   "cell_type": "code",
   "id": "e13f0a24-69e8-4479-aa4a-50bf94d114e8",
   "metadata": {
    "language": "sql",
    "name": "cell25",
    "collapsed": false
   },
   "outputs": [],
   "source": "SELECT COURSE_ASSIGNMENT_ERD.term, COURSE_ASSIGNMENT_ERD.mnemonic\nFROM COURSE_ASSIGNMENT_ERD\nGROUP BY COURSE_ASSIGNMENT_ERD.term, COURSE_ASSIGNMENT_ERD.mnemonic\nHAVING COUNT(COURSE_ASSIGNMENT_ERD.instructor_id) > 1\n",
   "execution_count": null
  },
  {
   "cell_type": "markdown",
   "id": "ad43188b-1166-4569-b248-d0a216d8e20f",
   "metadata": {
    "name": "cell16",
    "collapsed": false
   },
   "source": "## 10b) For courses with multiple sections, provide the term, course mnemonic, and instructor name for each. Hint: You can use your result from 10a in a subquery or WITH clause."
  },
  {
   "cell_type": "code",
   "id": "b6512738-0caf-40ef-a56b-0ac182067b14",
   "metadata": {
    "language": "sql",
    "name": "cell26"
   },
   "outputs": [],
   "source": "WITH multiple_sections AS (\n    SELECT COURSE_ASSIGNMENT_ERD.term, COURSE_ASSIGNMENT_ERD.mnemonic\n    FROM COURSE_ASSIGNMENT_ERD\n    GROUP BY COURSE_ASSIGNMENT_ERD.term, COURSE_ASSIGNMENT_ERD.mnemonic\n    HAVING COUNT(COURSE_ASSIGNMENT_ERD.instructor_id) > 1\n)\n\nSELECT COURSE_ASSIGNMENT_ERD.term, COURSE_ASSIGNMENT_ERD.mnemonic, INSTRUCTOR_ERD.name\nFROM COURSE_ASSIGNMENT_ERD\nLEFT JOIN INSTRUCTOR_ERD\nON COURSE_ASSIGNMENT_ERD.instructor_id = INSTRUCTOR_ERD.instructor_id\nJOIN multiple_sections \nON COURSE_ASSIGNMENT_ERD.term = multiple_sections.term AND COURSE_ASSIGNMENT_ERD.mnemonic =  multiple_sections.mnemonic \n",
   "execution_count": null
  }
 ]
}